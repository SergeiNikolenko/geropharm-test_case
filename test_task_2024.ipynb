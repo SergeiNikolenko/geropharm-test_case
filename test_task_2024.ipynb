{
  "cells": [
    {
      "cell_type": "markdown",
      "metadata": {
        "id": "DIttzd2Bx8i2"
      },
      "source": [
        "# **Тестовое задание**\n",
        "\n",
        "Уважаемый кандидат!\n",
        "\n",
        "В рамках данного тестового задания Вам будут предложены исследовательские задачи в области молекулярного моделирования и аналитики биомедицинских данных.\n",
        "Для выполнения Вы можете использовать любые доступные и удобные Вам инструменты.\n",
        "\n",
        "Желаем удачи!"
      ]
    },
    {
      "cell_type": "markdown",
      "metadata": {},
      "source": [
        "## **Введение**  "
      ]
    },
    {
      "cell_type": "markdown",
      "metadata": {
        "id": "q4ZajDKQ1Ci1"
      },
      "source": [
        "\n",
        "Сахарный диабет 2 типа часто называют эпидемией XXI века: по некоторым прогнозам к 2030 году каждый десятый человек на планете будет страдать от этого недуга. Одним из подходов к лечению сахарного диабета 2 типа является применение инкретиномиметиков - небольших белковых молекул, являющихся аналогами нативных белков человека и активирующих рецепторы, ответственные за регуляцию функции поджелудочной железы (источника инсулина) и уровня глюкозы в плазме крови. На фармацевтическом рынке широко доступны молекулы этого класса - агонисты GLP-1R - рецептора глюкагоноподобного пептида первого типа. Однако в 2022 году FDA был одобрен новый продукт, призванный произвести революцию в сфере лечения СД2 и ожирения - тирзепатид, обладающий агонизмом как к GLP-1R, так и к GIPR - рецептору глюкозозависимого инсулинотропного полипептида.\n",
        "В рамках данного задания Вам будут предложены данные о молекулах-кандидатах в лекарственное средство этого класса и возможность выбрать наиболее перспективное для разработки соединение."
      ]
    },
    {
      "cell_type": "markdown",
      "metadata": {
        "id": "DA67u2B33yWc"
      },
      "source": [
        "## **Задание №1.**  \n",
        "На первом этапе проекта была сгенерирована библиотека из ~100 тыс. кандидатов в лекарственное средство.\n",
        "\n",
        "После оценки ряда *in silico* параметров в short-list попали 10 молекул, информация о которых представлена в таблице ниже:\n",
        "\n",
        "| Lead     | Sequence| Molecular weight, Da| pI | GRAVY | GLP1-R_predicted_activity | GIPR_predicted_activity\n",
        "| ----------- | ----------- | ----------- | ----------- | ----------- | ----------- | ----------- |\n",
        "| Lead 1      | VAQGTFTSDYSSYLEPQAAMEFIRNLVKPRG|3476.87|6.15|-0.35|6.31|10.70\n",
        "| Lead 2      | YAQGTFTSCVSSYLEYQAAKEFIANLVKGRG|3402.78|8.14|-0.09|53.43|29.44|\n",
        "| Lead 3      | WAEGTETSDVSSYLEGQAAKEFIAWLVKGRG|3386.68|4.59|-0.36|86.72|92.91|\n",
        "| Lead 4      | YAQGTFTSDYSILLDKKAQAAFIEYLLEGGPSSGAPPPS|4091.48|4.32|-0.19|64.55|15.87\n",
        "| Lead 5      | YAQGTFTSDYPIMMDVRHQFDFVNHLLEFYGKKRDWQENIQQ|5197.73|5.38|-0.86|13.00|96.20\n",
        "| Lead 6      | YAQGTYTSDYSIKMDPIHTFDFVCRLLAQRGKSNDVSETPTQ|4785.24|5.47|-0.65|4.73|15.74\n",
        "| Lead 7      | YAEGTFTSDVSSYLEYQAAKKFIASLVKGGPSSGAPPPS|4009.38|6.18|-0.24|77.79|15.37|\n",
        "| Lead 8      | YAQGTFTSDYSLYLEGQAAKEFIATLVKGGPSSGAPPPS|4007.37|4.68|-0.23|49.61|94.06|\n",
        "| Lead 9      | YAEGTNTSDVSSYEEGQAAKEFIAWLVKGGPSSGAPPPS|3986.22|4.25|-0.56|31.10|44.03|\n",
        "| Lead 10     | HAQGTFTSDYSKYLDEKAAKEFIQWLLQT|3419.75|5.48|-0.69|98.61|94.05|\n",
        "\n",
        "\n",
        "Метаданные:\n",
        "*   Lead - идентификатор исследуемой молекулы\n",
        "*   Sequence - аминокислотная последовательность\n",
        "*   Molecular weight, Da - молекулярная масса в Да\n",
        "*   pI - изоэлектрическая точка\n",
        "*   GRAVY - индекс гидрофобности\n",
        "*   GLP1-R_predicted_activity - предсказанная клеточная активность в отношении GLP-1R в %, предсказания получены с помощью ранее обученной модели (R^2 = 0.89)\n",
        "*   GIPR_predicted_activity - предсказанная клеточная активность в отношении GIPR в %, предсказания получены с помощью ранее обученной модели (R^2 = 0.92)\n",
        "\n",
        "Проанализируйте датасет и сформулируйте научную гипотезу о взаимосвязи предсказанной клеточной активности в отношении рецепторов GLP-1R и GIPR с *in silico* дескрипторами. При необходимости можете оценить дополнительные дескрипторы аминокислотных последовательностей, например, с помощью библиотеки `biopython` (*не является обязательным*).\n",
        "\n",
        "В поле ниже внесите сформулированную гипотезу и её краткое обоснование."
      ]
    },
    {
      "cell_type": "code",
      "execution_count": 8,
      "metadata": {},
      "outputs": [
        {
          "data": {
            "text/html": [
              "<div>\n",
              "<style scoped>\n",
              "    .dataframe tbody tr th:only-of-type {\n",
              "        vertical-align: middle;\n",
              "    }\n",
              "\n",
              "    .dataframe tbody tr th {\n",
              "        vertical-align: top;\n",
              "    }\n",
              "\n",
              "    .dataframe thead th {\n",
              "        text-align: right;\n",
              "    }\n",
              "</style>\n",
              "<table border=\"1\" class=\"dataframe\">\n",
              "  <thead>\n",
              "    <tr style=\"text-align: right;\">\n",
              "      <th></th>\n",
              "      <th>Lead</th>\n",
              "      <th>Sequence</th>\n",
              "      <th>Molecular weight, Da</th>\n",
              "      <th>pI</th>\n",
              "      <th>GRAVY</th>\n",
              "      <th>GLP1-R_predicted_activity</th>\n",
              "      <th>GIPR_predicted_activity</th>\n",
              "    </tr>\n",
              "  </thead>\n",
              "  <tbody>\n",
              "    <tr>\n",
              "      <th>0</th>\n",
              "      <td>Lead 1</td>\n",
              "      <td>VAQGTFTSDYSSYLEPQAAMEFIRNLVKPRG</td>\n",
              "      <td>3476.87</td>\n",
              "      <td>6.15</td>\n",
              "      <td>-0.35</td>\n",
              "      <td>6.31</td>\n",
              "      <td>10.70</td>\n",
              "    </tr>\n",
              "    <tr>\n",
              "      <th>1</th>\n",
              "      <td>Lead 2</td>\n",
              "      <td>YAQGTFTSCVSSYLEYQAAKEFIANLVKGRG</td>\n",
              "      <td>3402.78</td>\n",
              "      <td>8.14</td>\n",
              "      <td>-0.09</td>\n",
              "      <td>53.43</td>\n",
              "      <td>29.44</td>\n",
              "    </tr>\n",
              "    <tr>\n",
              "      <th>2</th>\n",
              "      <td>Lead 3</td>\n",
              "      <td>WAEGTETSDVSSYLEGQAAKEFIAWLVKGRG</td>\n",
              "      <td>3386.68</td>\n",
              "      <td>4.59</td>\n",
              "      <td>-0.36</td>\n",
              "      <td>86.72</td>\n",
              "      <td>92.91</td>\n",
              "    </tr>\n",
              "    <tr>\n",
              "      <th>3</th>\n",
              "      <td>Lead 4</td>\n",
              "      <td>YAQGTFTSDYSILLDKKAQAAFIEYLLEGGPSSGAPPPS</td>\n",
              "      <td>4091.48</td>\n",
              "      <td>4.32</td>\n",
              "      <td>-0.19</td>\n",
              "      <td>64.55</td>\n",
              "      <td>15.87</td>\n",
              "    </tr>\n",
              "    <tr>\n",
              "      <th>4</th>\n",
              "      <td>Lead 5</td>\n",
              "      <td>YAQGTFTSDYPIMMDVRHQFDFVNHLLEFYGKKRDWQENIQQ</td>\n",
              "      <td>5197.73</td>\n",
              "      <td>5.38</td>\n",
              "      <td>-0.86</td>\n",
              "      <td>13.00</td>\n",
              "      <td>96.20</td>\n",
              "    </tr>\n",
              "    <tr>\n",
              "      <th>5</th>\n",
              "      <td>Lead 6</td>\n",
              "      <td>YAQGTYTSDYSIKMDPIHTFDFVCRLLAQRGKSNDVSETPTQ</td>\n",
              "      <td>4785.24</td>\n",
              "      <td>5.47</td>\n",
              "      <td>-0.65</td>\n",
              "      <td>4.73</td>\n",
              "      <td>15.74</td>\n",
              "    </tr>\n",
              "    <tr>\n",
              "      <th>6</th>\n",
              "      <td>Lead 7</td>\n",
              "      <td>YAEGTFTSDVSSYLEYQAAKKFIASLVKGGPSSGAPPPS</td>\n",
              "      <td>4009.38</td>\n",
              "      <td>6.18</td>\n",
              "      <td>-0.24</td>\n",
              "      <td>77.79</td>\n",
              "      <td>15.37</td>\n",
              "    </tr>\n",
              "    <tr>\n",
              "      <th>7</th>\n",
              "      <td>Lead 8</td>\n",
              "      <td>YAQGTFTSDYSLYLEGQAAKEFIATLVKGGPSSGAPPPS</td>\n",
              "      <td>4007.37</td>\n",
              "      <td>4.68</td>\n",
              "      <td>-0.23</td>\n",
              "      <td>49.61</td>\n",
              "      <td>94.06</td>\n",
              "    </tr>\n",
              "    <tr>\n",
              "      <th>8</th>\n",
              "      <td>Lead 9</td>\n",
              "      <td>YAEGTNTSDVSSYEEGQAAKEFIAWLVKGGPSSGAPPPS</td>\n",
              "      <td>3986.22</td>\n",
              "      <td>4.25</td>\n",
              "      <td>-0.56</td>\n",
              "      <td>31.10</td>\n",
              "      <td>44.03</td>\n",
              "    </tr>\n",
              "    <tr>\n",
              "      <th>9</th>\n",
              "      <td>Lead 10</td>\n",
              "      <td>HAQGTFTSDYSKYLDEKAAKEFIQWLLQT</td>\n",
              "      <td>3419.75</td>\n",
              "      <td>5.48</td>\n",
              "      <td>-0.69</td>\n",
              "      <td>98.61</td>\n",
              "      <td>94.05</td>\n",
              "    </tr>\n",
              "  </tbody>\n",
              "</table>\n",
              "</div>"
            ],
            "text/plain": [
              "      Lead                                    Sequence  Molecular weight, Da  \\\n",
              "0   Lead 1             VAQGTFTSDYSSYLEPQAAMEFIRNLVKPRG               3476.87   \n",
              "1   Lead 2             YAQGTFTSCVSSYLEYQAAKEFIANLVKGRG               3402.78   \n",
              "2   Lead 3             WAEGTETSDVSSYLEGQAAKEFIAWLVKGRG               3386.68   \n",
              "3   Lead 4     YAQGTFTSDYSILLDKKAQAAFIEYLLEGGPSSGAPPPS               4091.48   \n",
              "4   Lead 5  YAQGTFTSDYPIMMDVRHQFDFVNHLLEFYGKKRDWQENIQQ               5197.73   \n",
              "5   Lead 6  YAQGTYTSDYSIKMDPIHTFDFVCRLLAQRGKSNDVSETPTQ               4785.24   \n",
              "6   Lead 7     YAEGTFTSDVSSYLEYQAAKKFIASLVKGGPSSGAPPPS               4009.38   \n",
              "7   Lead 8     YAQGTFTSDYSLYLEGQAAKEFIATLVKGGPSSGAPPPS               4007.37   \n",
              "8   Lead 9     YAEGTNTSDVSSYEEGQAAKEFIAWLVKGGPSSGAPPPS               3986.22   \n",
              "9  Lead 10               HAQGTFTSDYSKYLDEKAAKEFIQWLLQT               3419.75   \n",
              "\n",
              "     pI  GRAVY  GLP1-R_predicted_activity  GIPR_predicted_activity  \n",
              "0  6.15  -0.35                       6.31                    10.70  \n",
              "1  8.14  -0.09                      53.43                    29.44  \n",
              "2  4.59  -0.36                      86.72                    92.91  \n",
              "3  4.32  -0.19                      64.55                    15.87  \n",
              "4  5.38  -0.86                      13.00                    96.20  \n",
              "5  5.47  -0.65                       4.73                    15.74  \n",
              "6  6.18  -0.24                      77.79                    15.37  \n",
              "7  4.68  -0.23                      49.61                    94.06  \n",
              "8  4.25  -0.56                      31.10                    44.03  \n",
              "9  5.48  -0.69                      98.61                    94.05  "
            ]
          },
          "metadata": {},
          "output_type": "display_data"
        }
      ],
      "source": [
        "import pandas as pd\n",
        "\n",
        "data = {\n",
        "    'Lead': ['Lead 1', 'Lead 2', 'Lead 3', 'Lead 4', 'Lead 5', 'Lead 6', 'Lead 7', 'Lead 8', 'Lead 9', 'Lead 10'],\n",
        "    'Sequence': [\n",
        "        'VAQGTFTSDYSSYLEPQAAMEFIRNLVKPRG',\n",
        "        'YAQGTFTSCVSSYLEYQAAKEFIANLVKGRG',\n",
        "        'WAEGTETSDVSSYLEGQAAKEFIAWLVKGRG',\n",
        "        'YAQGTFTSDYSILLDKKAQAAFIEYLLEGGPSSGAPPPS',\n",
        "        'YAQGTFTSDYPIMMDVRHQFDFVNHLLEFYGKKRDWQENIQQ',\n",
        "        'YAQGTYTSDYSIKMDPIHTFDFVCRLLAQRGKSNDVSETPTQ',\n",
        "        'YAEGTFTSDVSSYLEYQAAKKFIASLVKGGPSSGAPPPS',\n",
        "        'YAQGTFTSDYSLYLEGQAAKEFIATLVKGGPSSGAPPPS',\n",
        "        'YAEGTNTSDVSSYEEGQAAKEFIAWLVKGGPSSGAPPPS',\n",
        "        'HAQGTFTSDYSKYLDEKAAKEFIQWLLQT'\n",
        "    ],\n",
        "    'Molecular weight, Da': [\n",
        "        3476.87, 3402.78, 3386.68, 4091.48, 5197.73, 4785.24, 4009.38, 4007.37, 3986.22, 3419.75\n",
        "    ],\n",
        "    'pI': [\n",
        "        6.15, 8.14, 4.59, 4.32, 5.38, 5.47, 6.18, 4.68, 4.25, 5.48\n",
        "    ],\n",
        "    'GRAVY': [\n",
        "        -0.35, -0.09, -0.36, -0.19, -0.86, -0.65, -0.24, -0.23, -0.56, -0.69\n",
        "    ],\n",
        "    'GLP1-R_predicted_activity': [\n",
        "        6.31, 53.43, 86.72, 64.55, 13.00, 4.73, 77.79, 49.61, 31.10, 98.61\n",
        "    ],\n",
        "    'GIPR_predicted_activity': [\n",
        "        10.70, 29.44, 92.91, 15.87, 96.20, 15.74, 15.37, 94.06, 44.03, 94.05\n",
        "    ]\n",
        "}\n",
        "\n",
        "df = pd.DataFrame(data)\n",
        "display(df)"
      ]
    },
    {
      "cell_type": "markdown",
      "metadata": {
        "id": "eUwoq8Y2R0rV"
      },
      "source": [
        "## **Задание №2.**  \n",
        "\n",
        "Разработчик согласился проверить вашу гипотезу экспериментально - оценить клеточную активность *in vitro* для всех молекул из short-list. В тестах оценивали параметр EC50 по накоплению в цитоплазме клеток циклического АМФ (цАМФ), вызванному активацией целевых рецепторов. Тесты ставили в 10 независимых повторностях для каждого рецептора, рассчитывали среднее и стандартное отклонение. Результаты представлены ниже:\n",
        "\n",
        "| Lead     | GLP-1R EC50, нМ| GIPR EC50, нМ|\n",
        "| ----------- | ----------- | ----------- |\n",
        "| GLP-1       | 0.0148      | ND          |\n",
        "| GIP         | ND          | 0.004       |\n",
        "| Lead 1      | 0.0440      | 0.0146      |\n",
        "| Lead 2      | 0.0423      | 0.0045      |\n",
        "| Lead 3      | 0.0174      | 0.0045      |\n",
        "| Lead 4      | 0.0388      | ND          |\n",
        "| Lead 5      | 0.0288      | 0.0033      |\n",
        "| Lead 6      | 0.0941      | 0.0067      |\n",
        "| Lead 7      | 0.0161      | 0.0226      |\n",
        "| Lead 8      | 0.0242      | 0.0037      |\n",
        "| Lead 9      | 0.0158      | 0.0044      |\n",
        "| Lead 10     | 0.0139      | 0.0036      |\n",
        "\n",
        "*Примечание. ND - активность экспериментально не определена.*\n",
        "\n",
        "Проанализируйте экспериментальные данные. Удалось ли подтвердить или опровергнуть вашу гипотезу? Почему?"
      ]
    },
    {
      "cell_type": "markdown",
      "metadata": {
        "id": "7cZzyGtLB-Xu"
      },
      "source": [
        "\\## место для Вашего ответа ##"
      ]
    },
    {
      "cell_type": "markdown",
      "metadata": {
        "id": "MGX5MRmsVxdv"
      },
      "source": [
        "## **Задание №3.**  \n",
        "\n",
        "На следующем этапе проекта необходимо выбрать молекулы для проведения доклинических исследований *in vivo*. В них на животной модели сахарного диабета будет оцениваться влияние исследуемых соединений на уровень глюкозы и потребление пищи. Поскольку исследования на животных очень ресурсоемкие, Вам предстоит выбрать **одну молекулу** с наибольшим потенциалом для дальнейшей разработки.\n",
        "\n",
        "В поле ниже укажите номер наиболее перспективного лида и обоснуйте свой выбор."
      ]
    },
    {
      "cell_type": "markdown",
      "metadata": {
        "id": "k7bPnPNjDft3"
      },
      "source": [
        "\\## место для Вашего ответа ##"
      ]
    },
    {
      "cell_type": "markdown",
      "metadata": {
        "id": "AYLJ86XXXGiQ"
      },
      "source": [
        "## **Задание №4.**  \n",
        "\n",
        "Пока коллеги в лаборатории нарабатывают субстанцию для *in vivo* исследований, Вам предстоит завершить *in silico* характеризацию молекулы, выбранной в **Задании №3**.\n",
        "\n",
        "Используя любые инструменты и источники информации смоделируйте 3D-структуру пептидного лиганда и его комплекса с одним из целевых рецепторов - GLP-1R или GIPR человека (на Ваш выбор). Сохраните полученные структурные файлы: они должны быть приложены к выполненному заданию.\n",
        "\n",
        "При использовании GoogleColab приведите код в ячейке ниже, при использовании сторонних инструментов - кратко опишите алгоритм, по которому производили моделирование."
      ]
    },
    {
      "cell_type": "markdown",
      "metadata": {
        "id": "9T5spUCOXpyn"
      },
      "source": [
        "\\## место для Вашего ответа ##"
      ]
    },
    {
      "cell_type": "markdown",
      "metadata": {
        "id": "Q4EGXj0KcfUh"
      },
      "source": [
        "##**Поздравляем, Вы дошли до самого конца!**  \n",
        "\n",
        "Пожалуйста, экспортируйте данный ноутбук, содержащий ответы на поставленные вопросы в виде текстовых полей или комментариев к коду, а также приложите к нему:  \n",
        "- полученную 3D-структуру лиганда,\n",
        "- 3D-структуру комплекса лиганд-рецептор,\n",
        "- любые дополнительные файлы, которые посчитаете нужными.  \n",
        "\n",
        "Если Вы использовали какие-либо инструменты вне данного ноутбука, пожалуйста, убедитесь, что указали их, отвечая на вопросы."
      ]
    }
  ],
  "metadata": {
    "colab": {
      "provenance": []
    },
    "kernelspec": {
      "display_name": "Python 3",
      "name": "python3"
    },
    "language_info": {
      "codemirror_mode": {
        "name": "ipython",
        "version": 3
      },
      "file_extension": ".py",
      "mimetype": "text/x-python",
      "name": "python",
      "nbconvert_exporter": "python",
      "pygments_lexer": "ipython3",
      "version": "3.11.6"
    }
  },
  "nbformat": 4,
  "nbformat_minor": 0
}
